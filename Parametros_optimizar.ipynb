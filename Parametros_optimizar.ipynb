{
 "cells": [
  {
   "cell_type": "markdown",
   "id": "a0d0c3f9-516e-4ffc-9ad2-d0397ed7c723",
   "metadata": {},
   "source": [
    "# Práctica 2 parte 1\n",
    "\n",
    "## Parámetros bellman ford"
   ]
  },
  {
   "cell_type": "code",
   "execution_count": 1,
   "id": "b19ac555-a3d4-4c26-9f1b-0aec67fcc7f0",
   "metadata": {},
   "outputs": [],
   "source": [
    "import numpy as np \n",
    "import networkx as nx\n",
    "import matplotlib.pyplot as plt\n",
    "\n",
    "def bf_negative_cycle(graph, node_ini=None, distance_ini=np.inf):\n",
    "    \"\"\"\n",
    "    Description\n",
    "    -------\n",
    "    Get the shortest path using the Bellman-Ford algorithm.\n",
    "    Parameters\n",
    "    -------\n",
    "    G : Networkx DiGraph. The input graph.\n",
    "    node_ini : Optional parameter, indicate begining node\n",
    "    distance_ini : Deafault value is inf\n",
    "    Returns\n",
    "    -------\n",
    "    list\n",
    "        A list with the shortest path.\n",
    "    \"\"\"\n",
    "    \n",
    "    if node_ini is None:\n",
    "        n_nodes = len(graph.nodes())\n",
    "    else:\n",
    "        n_nodes = node_ini\n",
    "            \n",
    "    n = len(graph.nodes()) + 1\n",
    "    # Remove nan borders inside graph\n",
    "    edges = []\n",
    "    for edge in graph.edges().data():\n",
    "        if ~np.isnan(edge[2]['weight']):\n",
    "            edges.append(edge)\n",
    "\n",
    "    # Add a start node and add zero weighted edges to all other nodes\n",
    "    for i in range(n-1):\n",
    "        edges.append((n-1, i, {'weight': 0}))\n",
    "\n",
    "    # Initialize distances of nodes and predecessors\n",
    "    distance= np.ones(n) * distance_ini # Starting distances with infinite values\n",
    "    distance[n_nodes] = 0  # Starting node has zero distance\n",
    "    predecessors = np.ones(n) * -1  # Starting predecessors with -1 values\n",
    "    \n",
    "    list_val=[]\n",
    "\n",
    "    for i in range(n):  \n",
    "        x = -1\n",
    "        for edge in edges:\n",
    "            if distance[int(edge[0])] + edge[2]['weight'] < distance[int(edge[1])]:                \n",
    "                a = [distance[int(edge[0])] + edge[2]['weight'], distance[int(edge[1])],predecessors[int(edge[1])],int(edge[1])]\n",
    "                list_val.append(a)\n",
    "                distance[int(edge[1])] = distance[int(edge[0])] + edge[2]['weight']\n",
    "                predecessors[int(edge[1])] = int(edge[0])\n",
    "                x = int(edge[1])\n",
    "        if x == -1:  # If relaxation is not possible, there is no negative cycle\n",
    "            return None\n",
    "        \n",
    "    # Identify negative cycle\n",
    "    for i in range(n):\n",
    "        x = predecessors[int(x)]\n",
    "    cycle = []\n",
    "    v = x\n",
    "    while True:\n",
    "        cycle.append(int(v))\n",
    "        if v == x and len(cycle) > 1:\n",
    "            break\n",
    "        v = predecessors[int(v)]\n",
    "    \n",
    "    cycle.reverse() # reverse list\n",
    "    return cycle, list_val, predecessors"
   ]
  },
  {
   "cell_type": "markdown",
   "id": "cafd1f8e-127f-4460-a8f5-96a77d367785",
   "metadata": {},
   "source": [
    "Parámetros encontrados:\n",
    "\n",
    "- 1. Grafo dirigido\n",
    "- 2. Número de vértices\n",
    "- 3. Distancia o costo en los bordes del gráfico\n",
    "- 4. Vertice inicial\n",
    "- 5. Pasos de relajación\n",
    "- 5. Mapa de predecesores que contiene los nodos del mínimo spanning tree.\n",
    "- 6. Distancia mínima"
   ]
  },
  {
   "cell_type": "markdown",
   "id": "fce13eb2-31f1-40f6-8dc3-46f180d92130",
   "metadata": {},
   "source": [
    "Inicializando ejemplos de redes a analizar:"
   ]
  },
  {
   "cell_type": "code",
   "execution_count": 4,
   "id": "4a6f27ac-adbe-4910-81d1-d71c8d9c0103",
   "metadata": {},
   "outputs": [],
   "source": [
    "# 5 nodos - 7 bordes\n",
    "edges1 = [[\"0\",\"1\", 3],\n",
    "         [\"0\",\"3\", 6],\n",
    "         [\"1\",\"2\", 0],\n",
    "         [\"1\",\"4\", -2],\n",
    "         [\"3\",\"1\", -1],\n",
    "         [\"3\",\"4\", -7],\n",
    "         [\"4\",\"2\", 3]]\n",
    "        \n",
    "G1 = nx.DiGraph()        \n",
    "G1.add_weighted_edges_from(edges1)\n",
    "\n",
    "# 7 nodos - 7 bordes\n",
    "edges2 = [[\"5\",\"6\", 0.86],\n",
    "         [\"6\",\"5\", -0.94],\n",
    "         [\"3\",\"3\",0],\n",
    "         [\"0\",\"0\",0],\n",
    "         [\"1\",\"1\",0],\n",
    "         [\"2\",\"2\",0],\n",
    "         [\"4\",\"4\",0]]\n",
    "        \n",
    "G2 = nx.DiGraph()        \n",
    "G2.add_weighted_edges_from(edges2)\n",
    "\n",
    "# 10 nodos - 13 bordes\n",
    "edges3 = [[\"0\",\"1\", 5],\n",
    "         [\"1\",\"2\", 20],\n",
    "         [\"1\",\"5\", 30],\n",
    "         [\"1\",\"6\", 60],\n",
    "         [\"2\",\"3\", 10],\n",
    "         [\"2\",\"4\", 75],\n",
    "         [\"3\",\"2\", -15],\n",
    "         [\"4\",\"9\", 100],\n",
    "         [\"5\",\"4\", 25],\n",
    "         [\"5\",\"6\", 5],\n",
    "         [\"5\",\"8\", 50],\n",
    "         [\"6\",\"7\", -50],\n",
    "         [\"7\",\"8\", -10]]\n",
    "        \n",
    "G3 = nx.DiGraph()        \n",
    "G3.add_weighted_edges_from(edges3)"
   ]
  },
  {
   "cell_type": "code",
   "execution_count": 5,
   "id": "02214dce-209d-4a22-ba8a-17ee3aaa2c98",
   "metadata": {},
   "outputs": [],
   "source": [
    "c,lv,p = bf_negative_cycle(G2)"
   ]
  },
  {
   "cell_type": "code",
   "execution_count": 6,
   "id": "e7dc68ff-5bec-4488-acd6-ce614f81cb80",
   "metadata": {},
   "outputs": [
    {
     "name": "stdout",
     "output_type": "stream",
     "text": [
      "[ 7.  7.  7.  7.  7.  6.  5. -1.]\n"
     ]
    }
   ],
   "source": [
    "def get_data_sol_seg_param(Grafo)\n",
    "\n",
    "# Minim spanning tree\n",
    "print('Creación del Mapa de predecesores que contiene los nodos del mínimo spanning tree: \\n\\n', p ,'\\n\\n')\n",
    "# Iteraciones, relajación de datos \n",
    "print('Relajaciones, número de iteraciones: ',len(lv))\n",
    "# Solución\n",
    "print('Solución: ', c)\n",
    "# Relajaciones\n",
    "arr = np.array(lv)\n",
    "m = np.asmatrix(arr)\n",
    "print('Relajaciones realizadas: \\n\\n',m,'\\n\\n')\n",
    "# Separando datos a graficar\n",
    "act = np.array(m[:,0])\n",
    "ant = np.array(m[:,1])\n",
    "ni = map(str, np.array(m[:,2]).flatten().tolist())\n",
    "#print(ni)\n",
    "nf = map(str, np.array(m[:,3]).flatten().tolist())\n",
    "a =np.array([','.join(p) for p in zip(ni, nf)])\n",
    "#print(a)"
   ]
  },
  {
   "cell_type": "code",
   "execution_count": 7,
   "id": "3e91a67b-ae18-4297-b47b-84fb8274b55e",
   "metadata": {},
   "outputs": [
    {
     "name": "stdout",
     "output_type": "stream",
     "text": [
      "20\n"
     ]
    }
   ],
   "source": []
  },
  {
   "cell_type": "code",
   "execution_count": 8,
   "id": "6fdbbe58-6840-4f9f-a49b-a04a1b736d5a",
   "metadata": {},
   "outputs": [
    {
     "name": "stdout",
     "output_type": "stream",
     "text": [
      "[5, 6, 5]\n"
     ]
    }
   ],
   "source": []
  },
  {
   "cell_type": "code",
   "execution_count": 9,
   "id": "62f3cb26-278f-466a-b56f-246cef0105d5",
   "metadata": {},
   "outputs": [
    {
     "name": "stdout",
     "output_type": "stream",
     "text": [
      "[[ 0.     inf -1.    0.  ]\n",
      " [ 0.     inf -1.    1.  ]\n",
      " [ 0.     inf -1.    2.  ]\n",
      " [ 0.     inf -1.    3.  ]\n",
      " [ 0.     inf -1.    4.  ]\n",
      " [ 0.     inf -1.    5.  ]\n",
      " [ 0.     inf -1.    6.  ]\n",
      " [-0.94  0.    7.    5.  ]\n",
      " [-0.08  0.    7.    6.  ]\n",
      " [-1.02 -0.94  6.    5.  ]\n",
      " [-0.16 -0.08  5.    6.  ]\n",
      " [-1.1  -1.02  6.    5.  ]\n",
      " [-0.24 -0.16  5.    6.  ]\n",
      " [-1.18 -1.1   6.    5.  ]\n",
      " [-0.32 -0.24  5.    6.  ]\n",
      " [-1.26 -1.18  6.    5.  ]\n",
      " [-0.4  -0.32  5.    6.  ]\n",
      " [-1.34 -1.26  6.    5.  ]\n",
      " [-0.48 -0.4   5.    6.  ]\n",
      " [-1.42 -1.34  6.    5.  ]]\n"
     ]
    }
   ],
   "source": []
  },
  {
   "cell_type": "code",
   "execution_count": 45,
   "id": "0d6fab28-460b-4f63-98ed-060d7fa6a38e",
   "metadata": {},
   "outputs": [
    {
     "data": {
      "image/png": "[encoded data removed]",
      "text/plain": [
       "<Figure size 432x288 with 1 Axes>"
      ]
     },
     "metadata": {
      "needs_background": "light"
     },
     "output_type": "display_data"
    }
   ],
   "source": [
    "\n",
    "\n",
    "# Nodos\n",
    "x = list(range(1, len(a)))\n",
    "y2 = act\n",
    "y1 = ant\n",
    "\n",
    "x = range(100)\n",
    "y = range(100,200)\n",
    "fig = plt.figure()\n",
    "ax1 = fig.add_subplot(111)\n",
    "\n",
    "ax1.set_title('Relajación de datos')\n",
    "ax1.set_xlabel('Edges')\n",
    "ax1.set_ylabel('Relajación de datos')\n",
    "\n",
    "ax1.scatter(a, y1, s=10, c='b', marker=\"s\", label='Valor inicial')\n",
    "ax1.scatter(a, y2, s=10, c='r', marker=\"o\", label='Valor actualizado')\n",
    "ax1.legend(loc='center left', bbox_to_anchor=(1, 0.5))\n",
    "plt.xticks(rotation = 90) \n",
    "plt.show()"
   ]
  },
  {
   "cell_type": "code",
   "execution_count": 47,
   "id": "eec9f34c-ca21-4ac4-a53b-d2cd52d6f02b",
   "metadata": {},
   "outputs": [
    {
     "data": {
      "image/png": "[encoded data removed]",
      "text/plain": [
       "<Figure size 432x288 with 1 Axes>"
      ]
     },
     "metadata": {
      "needs_background": "light"
     },
     "output_type": "display_data"
    }
   ],
   "source": [
    "plt.plot(y1, y2)\n",
    " \n",
    "# naming the x axis\n",
    "plt.xlabel('Valor Inicial')\n",
    "# naming the y axis\n",
    "plt.ylabel('Valor Actuakizado')\n",
    "\n",
    "plt.title('Actualización de datos (relajación global)')\n",
    " \n",
    "# function to show the plot\n",
    "plt.show()"
   ]
  },
  {
   "cell_type": "code",
   "execution_count": 49,
   "id": "fc225a9f-2696-48a3-a4ce-a3e9af198272",
   "metadata": {},
   "outputs": [
    {
     "data": {
      "image/png": "[encoded data removed]",
      "text/plain": [
       "<Figure size 432x288 with 1 Axes>"
      ]
     },
     "metadata": {
      "needs_background": "light"
     },
     "output_type": "display_data"
    }
   ],
   "source": [
    "x = np.array(m[:,2])\n",
    "y = np.array(m[:,3])\n",
    "plt.plot(x, y)\n",
    " \n",
    "# naming the x axis\n",
    "plt.xlabel('Nodo origen')\n",
    "# naming the y axis\n",
    "plt.ylabel('Nodo destino')\n",
    " \n",
    "# giving a title to my graph\n",
    "plt.title('Actualización de la ruta')\n",
    " \n",
    "# function to show the plot\n",
    "plt.show()"
   ]
  },
  {
   "cell_type": "code",
   "execution_count": 71,
   "id": "a341d82b-cfad-4b69-9e10-3c31785492f8",
   "metadata": {},
   "outputs": [],
   "source": [
    "c,lv,lv2,p = bf_negative_cycle(G,5)"
   ]
  },
  {
   "cell_type": "code",
   "execution_count": 73,
   "id": "92171929-bc53-4b23-b6bb-0d65e257d872",
   "metadata": {},
   "outputs": [
    {
     "name": "stdout",
     "output_type": "stream",
     "text": [
      "[-1. -1. -1. -1. -1.  6.  5. -1.]\n",
      "16\n",
      "[5, 6, 5]\n",
      "[5.0]\n",
      "[[ 0.86   inf -1.    6.  ]\n",
      " [-0.08  0.   -1.    5.  ]\n",
      " [ 0.78  0.86  5.    6.  ]\n",
      " [-0.16 -0.08  6.    5.  ]\n",
      " [ 0.7   0.78  5.    6.  ]\n",
      " [-0.24 -0.16  6.    5.  ]\n",
      " [ 0.62  0.7   5.    6.  ]\n",
      " [-0.32 -0.24  6.    5.  ]\n",
      " [ 0.54  0.62  5.    6.  ]\n",
      " [-0.4  -0.32  6.    5.  ]\n",
      " [ 0.46  0.54  5.    6.  ]\n",
      " [-0.48 -0.4   6.    5.  ]\n",
      " [ 0.38  0.46  5.    6.  ]\n",
      " [-0.56 -0.48  6.    5.  ]\n",
      " [ 0.3   0.38  5.    6.  ]\n",
      " [-0.64 -0.56  6.    5.  ]]\n"
     ]
    },
    {
     "data": {
      "image/png": "[encoded data removed]",
      "text/plain": [
       "<Figure size 432x288 with 1 Axes>"
      ]
     },
     "metadata": {
      "needs_background": "light"
     },
     "output_type": "display_data"
    }
   ],
   "source": [
    "print(p)\n",
    "print(len(lv))\n",
    "print(c)\n",
    "print(lv2)\n",
    "arr = np.array(lv)\n",
    "m = np.asmatrix(arr)\n",
    "print(m)\n",
    "x = np.array(m[:,0])\n",
    "y = np.array(m[:,1])\n",
    "plt.plot(x, y)\n",
    " \n",
    "# naming the x axis\n",
    "plt.xlabel('x - axis')\n",
    "# naming the y axis\n",
    "plt.ylabel('y - axis')\n",
    " \n",
    "# giving a title to my graph\n",
    "plt.title('My first graph!')\n",
    " \n",
    "# function to show the plot\n",
    "plt.show()"
   ]
  },
  {
   "cell_type": "code",
   "execution_count": 74,
   "id": "0d6fdfdf-477d-4b52-b824-938a550c7964",
   "metadata": {},
   "outputs": [
    {
     "data": {
      "image/png": "[encoded data removed]",
      "text/plain": [
       "<Figure size 432x288 with 1 Axes>"
      ]
     },
     "metadata": {
      "needs_background": "light"
     },
     "output_type": "display_data"
    }
   ],
   "source": [
    "x = np.array(m[:,2])\n",
    "y = np.array(m[:,3])\n",
    "plt.plot(x, y)\n",
    " \n",
    "# naming the x axis\n",
    "plt.xlabel('x - axis')\n",
    "# naming the y axis\n",
    "plt.ylabel('y - axis')\n",
    " \n",
    "# giving a title to my graph\n",
    "plt.title('My first graph!')\n",
    " \n",
    "# function to show the plot\n",
    "plt.show()"
   ]
  },
  {
   "cell_type": "code",
   "execution_count": 79,
   "id": "79d02859-db78-410c-bd7d-350e3f7cc223",
   "metadata": {},
   "outputs": [],
   "source": [
    "c,lv,lv2,p = bf_negative_cycle(G,6)"
   ]
  },
  {
   "cell_type": "code",
   "execution_count": 80,
   "id": "24dadaf5-2775-4a9d-b5e7-f1a29db5941f",
   "metadata": {},
   "outputs": [
    {
     "name": "stdout",
     "output_type": "stream",
     "text": [
      "[-1. -1. -1. -1. -1.  6.  5. -1.]\n",
      "15\n",
      "[5, 6, 5]\n",
      "[5.0]\n",
      "[[-0.94   inf -1.    5.  ]\n",
      " [-0.08  0.   -1.    6.  ]\n",
      " [-1.02 -0.94  6.    5.  ]\n",
      " [-0.16 -0.08  5.    6.  ]\n",
      " [-1.1  -1.02  6.    5.  ]\n",
      " [-0.24 -0.16  5.    6.  ]\n",
      " [-1.18 -1.1   6.    5.  ]\n",
      " [-0.32 -0.24  5.    6.  ]\n",
      " [-1.26 -1.18  6.    5.  ]\n",
      " [-0.4  -0.32  5.    6.  ]\n",
      " [-1.34 -1.26  6.    5.  ]\n",
      " [-0.48 -0.4   5.    6.  ]\n",
      " [-1.42 -1.34  6.    5.  ]\n",
      " [-0.56 -0.48  5.    6.  ]\n",
      " [-1.5  -1.42  6.    5.  ]]\n"
     ]
    },
    {
     "data": {
      "image/png": "[encoded data removed]",
      "text/plain": [
       "<Figure size 432x288 with 1 Axes>"
      ]
     },
     "metadata": {
      "needs_background": "light"
     },
     "output_type": "display_data"
    }
   ],
   "source": [
    "print(p)\n",
    "print(len(lv))\n",
    "print(c)\n",
    "print(lv2)\n",
    "arr = np.array(lv)\n",
    "m = np.asmatrix(arr)\n",
    "print(m)\n",
    "x = np.array(m[:,0])\n",
    "y = np.array(m[:,1])\n",
    "plt.plot(x, y)\n",
    " \n",
    "# naming the x axis\n",
    "plt.xlabel('x - axis')\n",
    "# naming the y axis\n",
    "plt.ylabel('y - axis')\n",
    " \n",
    "# giving a title to my graph\n",
    "plt.title('My first graph!')\n",
    " \n",
    "# function to show the plot\n",
    "plt.show()"
   ]
  },
  {
   "cell_type": "code",
   "execution_count": 83,
   "id": "6b340e55-acbd-4f19-b9f6-00c018add1ef",
   "metadata": {},
   "outputs": [
    {
     "data": {
      "image/png": "[encoded data removed]",
      "text/plain": [
       "<Figure size 432x288 with 1 Axes>"
      ]
     },
     "metadata": {
      "needs_background": "light"
     },
     "output_type": "display_data"
    }
   ],
   "source": [
    "x = np.array(m[:,2])\n",
    "y = np.array(m[:,3])\n",
    "plt.plot(x, y)\n",
    " \n",
    "# naming the x axis\n",
    "plt.xlabel('node ini')\n",
    "# naming the y axis\n",
    "plt.ylabel('node fin')\n",
    " \n",
    "# giving a title to my graph\n",
    "plt.title('My first graph!')\n",
    " \n",
    "# function to show the plot\n",
    "plt.show()"
   ]
  },
  {
   "cell_type": "code",
   "execution_count": 84,
   "id": "7d8e09a9-1ec5-422e-90c5-25f22f3b96f3",
   "metadata": {},
   "outputs": [],
   "source": [
    "c,lv,lv2,p = bf_negative_cycle(G,None,1)"
   ]
  },
  {
   "cell_type": "code",
   "execution_count": 85,
   "id": "c3f65771-c13e-4da1-b717-7efd0e67aee7",
   "metadata": {},
   "outputs": [
    {
     "name": "stdout",
     "output_type": "stream",
     "text": [
      "[ 7.  7.  7.  7.  7.  6.  5. -1.]\n",
      "21\n",
      "[5, 6, 5]\n",
      "[5.0]\n",
      "[[ 0.06  1.   -1.    5.  ]\n",
      " [ 0.    1.   -1.    0.  ]\n",
      " [ 0.    1.   -1.    1.  ]\n",
      " [ 0.    1.   -1.    2.  ]\n",
      " [ 0.    1.   -1.    3.  ]\n",
      " [ 0.    1.   -1.    4.  ]\n",
      " [ 0.    0.06  6.    5.  ]\n",
      " [ 0.    1.   -1.    6.  ]\n",
      " [-0.94  0.    7.    5.  ]\n",
      " [-0.08  0.    7.    6.  ]\n",
      " [-1.02 -0.94  6.    5.  ]\n",
      " [-0.16 -0.08  5.    6.  ]\n",
      " [-1.1  -1.02  6.    5.  ]\n",
      " [-0.24 -0.16  5.    6.  ]\n",
      " [-1.18 -1.1   6.    5.  ]\n",
      " [-0.32 -0.24  5.    6.  ]\n",
      " [-1.26 -1.18  6.    5.  ]\n",
      " [-0.4  -0.32  5.    6.  ]\n",
      " [-1.34 -1.26  6.    5.  ]\n",
      " [-0.48 -0.4   5.    6.  ]\n",
      " [-1.42 -1.34  6.    5.  ]]\n"
     ]
    },
    {
     "data": {
      "image/png": "[encoded data removed]",
      "text/plain": [
       "<Figure size 432x288 with 1 Axes>"
      ]
     },
     "metadata": {
      "needs_background": "light"
     },
     "output_type": "display_data"
    }
   ],
   "source": [
    "print(p)\n",
    "print(len(lv))\n",
    "print(c)\n",
    "print(lv2)\n",
    "arr = np.array(lv)\n",
    "m = np.asmatrix(arr)\n",
    "print(m)\n",
    "x = np.array(m[:,0])\n",
    "y = np.array(m[:,1])\n",
    "plt.plot(x, y)\n",
    " \n",
    "# naming the x axis\n",
    "plt.xlabel('x - axis')\n",
    "# naming the y axis\n",
    "plt.ylabel('y - axis')\n",
    " \n",
    "# giving a title to my graph\n",
    "plt.title('My first graph!')\n",
    " \n",
    "# function to show the plot\n",
    "plt.show()"
   ]
  },
  {
   "cell_type": "code",
   "execution_count": 86,
   "id": "952a7316-4914-465b-8a9f-37c06091cae2",
   "metadata": {},
   "outputs": [
    {
     "data": {
      "image/png": "[encoded data removed]",
      "text/plain": [
       "<Figure size 432x288 with 1 Axes>"
      ]
     },
     "metadata": {
      "needs_background": "light"
     },
     "output_type": "display_data"
    }
   ],
   "source": [
    "x = np.array(m[:,2])\n",
    "y = np.array(m[:,3])\n",
    "plt.plot(x, y)\n",
    " \n",
    "# naming the x axis\n",
    "plt.xlabel('x - axis')\n",
    "# naming the y axis\n",
    "plt.ylabel('y - axis')\n",
    " \n",
    "# giving a title to my graph\n",
    "plt.title('My first graph!')\n",
    " \n",
    "# function to show the plot\n",
    "plt.show()"
   ]
  },
  {
   "cell_type": "code",
   "execution_count": 87,
   "id": "eb3b84ed-4ad1-46ca-8d46-af5b13007cf0",
   "metadata": {},
   "outputs": [],
   "source": [
    "c,lv,lv2,p = bf_negative_cycle(G,None,10)"
   ]
  },
  {
   "cell_type": "code",
   "execution_count": 88,
   "id": "f42bd476-dcfd-4e50-897e-2063c60a1f37",
   "metadata": {},
   "outputs": [
    {
     "name": "stdout",
     "output_type": "stream",
     "text": [
      "[ 7.  7.  7.  7.  7.  6.  5. -1.]\n",
      "21\n",
      "[5, 6, 5]\n",
      "[5.0]\n",
      "[[ 9.06 10.   -1.    5.  ]\n",
      " [ 0.   10.   -1.    0.  ]\n",
      " [ 0.   10.   -1.    1.  ]\n",
      " [ 0.   10.   -1.    2.  ]\n",
      " [ 0.   10.   -1.    3.  ]\n",
      " [ 0.   10.   -1.    4.  ]\n",
      " [ 0.    9.06  6.    5.  ]\n",
      " [ 0.   10.   -1.    6.  ]\n",
      " [-0.94  0.    7.    5.  ]\n",
      " [-0.08  0.    7.    6.  ]\n",
      " [-1.02 -0.94  6.    5.  ]\n",
      " [-0.16 -0.08  5.    6.  ]\n",
      " [-1.1  -1.02  6.    5.  ]\n",
      " [-0.24 -0.16  5.    6.  ]\n",
      " [-1.18 -1.1   6.    5.  ]\n",
      " [-0.32 -0.24  5.    6.  ]\n",
      " [-1.26 -1.18  6.    5.  ]\n",
      " [-0.4  -0.32  5.    6.  ]\n",
      " [-1.34 -1.26  6.    5.  ]\n",
      " [-0.48 -0.4   5.    6.  ]\n",
      " [-1.42 -1.34  6.    5.  ]]\n"
     ]
    },
    {
     "data": {
      "image/png": "[encoded data removed]",
      "text/plain": [
       "<Figure size 432x288 with 1 Axes>"
      ]
     },
     "metadata": {
      "needs_background": "light"
     },
     "output_type": "display_data"
    }
   ],
   "source": [
    "print(p)\n",
    "print(len(lv))\n",
    "print(c)\n",
    "print(lv2)\n",
    "arr = np.array(lv)\n",
    "m = np.asmatrix(arr)\n",
    "print(m)\n",
    "x = np.array(m[:,0])\n",
    "y = np.array(m[:,1])\n",
    "plt.plot(x, y)\n",
    " \n",
    "# naming the x axis\n",
    "plt.xlabel('x - axis')\n",
    "# naming the y axis\n",
    "plt.ylabel('y - axis')\n",
    " \n",
    "# giving a title to my graph\n",
    "plt.title('My first graph!')\n",
    " \n",
    "# function to show the plot\n",
    "plt.show()"
   ]
  },
  {
   "cell_type": "code",
   "execution_count": 89,
   "id": "7729faa7-d928-47f0-9f48-775090fa06fc",
   "metadata": {},
   "outputs": [
    {
     "data": {
      "image/png": "[encoded data removed]",
      "text/plain": [
       "<Figure size 432x288 with 1 Axes>"
      ]
     },
     "metadata": {
      "needs_background": "light"
     },
     "output_type": "display_data"
    }
   ],
   "source": [
    "x = np.array(m[:,2])\n",
    "y = np.array(m[:,3])\n",
    "plt.plot(x, y)\n",
    " \n",
    "# naming the x axis\n",
    "plt.xlabel('x - axis')\n",
    "# naming the y axis\n",
    "plt.ylabel('y - axis')\n",
    " \n",
    "# giving a title to my graph\n",
    "plt.title('My first graph!')\n",
    " \n",
    "# function to show the plot\n",
    "plt.show()"
   ]
  },
  {
   "cell_type": "code",
   "execution_count": null,
   "id": "deb5ba40-bc8c-4f71-8868-1956138ba5f1",
   "metadata": {},
   "outputs": [],
   "source": []
  }
 ],
 "metadata": {
  "kernelspec": {
   "display_name": "Python 3 (ipykernel)",
   "language": "python",
   "name": "python3"
  },
  "language_info": {
   "codemirror_mode": {
    "name": "ipython",
    "version": 3
   },
   "file_extension": ".py",
   "mimetype": "text/x-python",
   "name": "python",
   "nbconvert_exporter": "python",
   "pygments_lexer": "ipython3",
   "version": "3.8.10"
  }
 },
 "nbformat": 4,
 "nbformat_minor": 5
}
