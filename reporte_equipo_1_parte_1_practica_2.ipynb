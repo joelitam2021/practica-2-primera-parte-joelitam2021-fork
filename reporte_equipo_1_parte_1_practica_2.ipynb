{
 "cells": [
  {
   "attachments": {
    "cinta.png": {
     "image/png": "[encoded data removed]"
    }
   },
   "cell_type": "markdown",
   "id": "6dd7c90a",
   "metadata": {},
   "source": [
    "![cinta.png](attachment:cinta.png)"
   ]
  },
  {
   "attachments": {
    "logo-3.png": {
     "image/png": "[encoded data removed]"
    }
   },
   "cell_type": "markdown",
   "id": "dc2e3d43",
   "metadata": {},
   "source": [
    "![logo-3.png](attachment:logo-3.png)"
   ]
  },
  {
   "cell_type": "markdown",
   "id": "1ef1c99b",
   "metadata": {},
   "source": [
    "# **Maestría en Ciencia de Datos**\n",
    "## Temas Selectos de Modelado. Primavera 2022.\n",
    "\n",
    "### **Equipo 1** \n",
    "\n",
    "- Nyrma Paulina Hernández Trejo\n",
    "- Aide Jazmín González Cruz\n",
    "- Joel Jaramillo Pacheco\n",
    "- Jesús Enrique Miranda Blanco\n",
    "\n",
    "<br>\n",
    "\n",
    "<div align=\"center\"><h1>Práctica 2</h1></div>\n",
    "\n",
    "\n",
    "## **Primera parte**"
   ]
  },
  {
   "cell_type": "markdown",
   "id": "f3cfd582",
   "metadata": {},
   "source": [
    "**Descripción:** experimentación, construcción de *pipelines* vía *Minikube, Kubeflow* y *Kale* y reimplementaciones del método numérico realizado en la práctica 1 que resuelva problemas de optimización convexa de pequeña escala. \n",
    "\n",
    "\n",
    "El objetivo es realizar experimentos con las herramientas de *Minikube, kubeflow* y *Kale*  para detectar con qué valores no funcionan sus programas. Cambien puntos iniciales, cambien criterios de paro, elijan diferentes ejemplos que los que utilizaron en los *tests* por ejemplo y reimplementen sus métodos que están en su paquete para mejorarlo y robustecerlo. Estos cambios de implementación deben de reflejarse automáticamente vía *Github actions* en la documentación del paquete, *tests* y en sus imágenes de *Docker*."
   ]
  },
  {
   "cell_type": "markdown",
   "id": "7950547f-ccee-422c-b3e2-f1f86319c901",
   "metadata": {},
   "source": [
    "**1. Descripción de los parámetros que existen en su problema de optimización y en su método numérico.**\n",
    "\n",
    "Analizando el problema de optimización que es el *Arbitrage Identification Cycle in Crypto Trading*, donde se busca obtener mayor plusvalia al menor costo en la compra- venta de *bitcoins*, nos interesa conocer:\n",
    "\n",
    "- La distancia mínima\n",
    "\n",
    "En cuanto al método que se implementó para resolver este problema es *Bellman Ford*, en el cual se encontraron los siguientes parámetros:\n",
    "\n",
    "- 1. Número de vértices, el cuál depede del grafo dirigido que se da de entrada, nos interesa saber como se comporta el algorirmo con un mayor y menor número de nodos.\n",
    "\n",
    "- 2. Distancia o costo en los bordes del gráfico: de acuerdo a la bibliografía se establece que las distancias iniciales sean de infinito, pero ¿qué pasa si estás distancias son menores?.\n",
    "\n",
    "- 3. Vertice inicial, se plantea modificar el nodo de inicio desde el cual se incia la comparación de distancias a los demás nodos, y observar el comportamieno del algoritmo.\n",
    "\n",
    "- 5. Mapa de predecesores que contiene los nodos del mínimo spanning tree, es este caso se pretende conocer la variación en tamaño del grafo solución, ver como se comporta con la variación de los parámetros mencionados anteriormente, aunque como tal este no es un parámetro.\n",
    "\n",
    "\n",
    "**2. Tabla con las corridas con los diferentes parámetros, sus resultados y las fechas de lanzamiento.**\n",
    "\n"
   ]
  },
  {
   "cell_type": "markdown",
   "id": "2c9f87fe",
   "metadata": {},
   "source": [
    "### **Referencias:**\n",
    "\n",
    "**<sup>(1)</sup>** [Bellman-Ford Algorithm](https://www.sciencedirect.com/topics/computer-science/bellman-ford-algorithm).\n",
    "\n",
    "**<sup>(2)</sup>** [bellman_ford_shortest_paths](https://www.boost.org/doc/libs/1_62_0/libs/graph/doc/bellman_ford_shortest.html)"
   ]
  },
  {
   "cell_type": "code",
   "execution_count": null,
   "id": "9564fdf1-ebf1-4c13-98e2-b4f832187fba",
   "metadata": {},
   "outputs": [],
   "source": []
  }
 ],
 "metadata": {
  "kernelspec": {
   "display_name": "Python 3 (ipykernel)",
   "language": "python",
   "name": "python3"
  },
  "language_info": {
   "codemirror_mode": {
    "name": "ipython",
    "version": 3
   },
   "file_extension": ".py",
   "mimetype": "text/x-python",
   "name": "python",
   "nbconvert_exporter": "python",
   "pygments_lexer": "ipython3",
   "version": "3.8.10"
  }
 },
 "nbformat": 4,
 "nbformat_minor": 5
}
